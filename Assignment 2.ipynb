{
 "cells": [
  {
   "cell_type": "code",
   "execution_count": null,
   "id": "a03eb79d",
   "metadata": {},
   "outputs": [],
   "source": [
    "# Assignment 2 of Data Science Masters 2.0\n",
    "# Q1. How do you comment code in Python? What are the different types of comments?\n",
    "\"\"\"\n",
    "Two ways to do it \n",
    "first single line comment # this is comment \n",
    "second multi line comment \"\"\"this is also a comment\"\"\"\n",
    "\"\"\""
   ]
  },
  {
   "cell_type": "code",
   "execution_count": 1,
   "id": "5ea25c70",
   "metadata": {},
   "outputs": [],
   "source": [
    "#Q2. What are variables in Python? How do you declare and assign values to variables?\n",
    "\"\"\"Variables is a container which stores data this could be type integer, floating, string, char, bool etc.\n",
    "\"\"\"\n",
    "# assigning the  variables we can simply use assigning operator (=)\n",
    "a = 3 #integer type\n",
    "b = 3.14 # floating type\n",
    "c = \"string\"\n",
    "d = True\n",
    "e = 'A'"
   ]
  },
  {
   "cell_type": "code",
   "execution_count": 3,
   "id": "0c923104",
   "metadata": {},
   "outputs": [
    {
     "data": {
      "text/plain": [
       "'24'"
      ]
     },
     "execution_count": 3,
     "metadata": {},
     "output_type": "execute_result"
    }
   ],
   "source": [
    "#Q3. How do you convert one data type to another in Python?\n",
    "# we use type casting to do it \n",
    "a = 2\n",
    "b = 4\n",
    "str(a)+str(b)"
   ]
  },
  {
   "cell_type": "code",
   "execution_count": 4,
   "id": "83505937",
   "metadata": {},
   "outputs": [
    {
     "data": {
      "text/plain": [
       "'To write a Python script, you can use any text editor to create a new file with the .py extension. Then, you can write your Python code in the file and save it.\\nTo execute the script from the command line, you need to open a terminal or command prompt and navigate to the directory where your script is saved. Then, you can run the script by typing python followed by the name of your script file and pressing enter. For example, if your script is named myscript.py, you would type python myscript.py and press enter.'"
      ]
     },
     "execution_count": 4,
     "metadata": {},
     "output_type": "execute_result"
    }
   ],
   "source": [
    "#Q4. How do you write and execute a Python script from the command line?\n",
    "\"\"\"To write a Python script, you can use any text editor to create a new file with the .py extension. Then, you can write your Python code in the file and save it.\n",
    "To execute the script from the command line, you need to open a terminal or command prompt and navigate to the directory where your script is saved. Then, you can run the script by typing python followed by the name of your script file and pressing enter. For example, if your script is named myscript.py, you would type python myscript.py and press enter.\"\"\""
   ]
  },
  {
   "cell_type": "code",
   "execution_count": 7,
   "id": "11cafaf6",
   "metadata": {},
   "outputs": [
    {
     "name": "stdout",
     "output_type": "stream",
     "text": [
      "[2, 3]\n"
     ]
    }
   ],
   "source": [
    "#Q5. Given a list my_list = [1, 2, 3, 4, 5], write the code to slice the list and obtain the sub-list [2, 3].\n",
    "my_list = [1, 2, 3, 4, 5]\n",
    "sub_list = my_list[1:3]\n",
    "print(sub_list)"
   ]
  },
  {
   "cell_type": "code",
   "execution_count": 8,
   "id": "8e05d238",
   "metadata": {},
   "outputs": [
    {
     "name": "stdout",
     "output_type": "stream",
     "text": [
      "3.0\n",
      "4.0\n"
     ]
    }
   ],
   "source": [
    "#Q6. What is a complex number in mathematics, and how is it represented in Python?\n",
    "# in mathematics complex number is represented like 3 + 4j\n",
    "x = 3 + 4j\n",
    "print(x.real) # Output: 3.0\n",
    "print(x.imag) # Output: 4.0"
   ]
  },
  {
   "cell_type": "code",
   "execution_count": 9,
   "id": "0ab262c0",
   "metadata": {},
   "outputs": [],
   "source": [
    "#Q7. What is the correct way to declare a variable named age and assign the value 25 to it?\n",
    "age = int(25)"
   ]
  },
  {
   "cell_type": "code",
   "execution_count": 10,
   "id": "a36da8e8",
   "metadata": {},
   "outputs": [
    {
     "data": {
      "text/plain": [
       "float"
      ]
     },
     "execution_count": 10,
     "metadata": {},
     "output_type": "execute_result"
    }
   ],
   "source": [
    "#Q8. Declare a variable named price and assign the value 9.99 to it. What data type does this variable belong to?\n",
    "price = 9.99\n",
    "type(price)"
   ]
  },
  {
   "cell_type": "code",
   "execution_count": 11,
   "id": "c9191f62",
   "metadata": {},
   "outputs": [
    {
     "name": "stdout",
     "output_type": "stream",
     "text": [
      "Ankit Sharma\n"
     ]
    }
   ],
   "source": [
    "#Q9. Create a variable named name and assign your full name to it as a string. How would you print the value of this variable?\n",
    "name = \"Ankit Sharma\"\n",
    "name \n",
    "print(name)"
   ]
  },
  {
   "cell_type": "code",
   "execution_count": 13,
   "id": "21d4868e",
   "metadata": {},
   "outputs": [
    {
     "name": "stdout",
     "output_type": "stream",
     "text": [
      "World\n"
     ]
    },
    {
     "data": {
      "text/plain": [
       "' World!'"
      ]
     },
     "execution_count": 13,
     "metadata": {},
     "output_type": "execute_result"
    }
   ],
   "source": [
    "#Q10. Given the string \"Hello, World!\", extract the substring \"World\".\n",
    "string = \"Hello, World!\"\n",
    "# first way\n",
    "substring = string[7:12]\n",
    "print(substring)\n",
    "# second way\n",
    "substring = string.split(',')\n",
    "substring[1]"
   ]
  },
  {
   "cell_type": "code",
   "execution_count": 14,
   "id": "e7ff3d9f",
   "metadata": {},
   "outputs": [],
   "source": [
    "#Q11. Create a variable named \"is_student\" and assign it a boolean value indicating whether you are currently a student or not.\n",
    "is_student = True\n",
    "is_student = False"
   ]
  }
 ],
 "metadata": {
  "kernelspec": {
   "display_name": "Python 3 (ipykernel)",
   "language": "python",
   "name": "python3"
  },
  "language_info": {
   "codemirror_mode": {
    "name": "ipython",
    "version": 3
   },
   "file_extension": ".py",
   "mimetype": "text/x-python",
   "name": "python",
   "nbconvert_exporter": "python",
   "pygments_lexer": "ipython3",
   "version": "3.11.2"
  }
 },
 "nbformat": 4,
 "nbformat_minor": 5
}
