{
 "cells": [
  {
   "cell_type": "markdown",
   "id": "e3569da7",
   "metadata": {},
   "source": [
    "# WELCOME TO ASSIGNMENT 01 MASTER OF DATA SCIENCE COURSE 2.0"
   ]
  },
  {
   "cell_type": "code",
   "execution_count": 19,
   "id": "90f9b76e",
   "metadata": {},
   "outputs": [
    {
     "name": "stdout",
     "output_type": "stream",
     "text": [
      "<class 'str'> <class 'list'> <class 'float'> <class 'tuple'>\n"
     ]
    }
   ],
   "source": [
    "\"\"\"\n",
    "Q1. Create one variable containing following type of data:\n",
    "(i) string\n",
    "(ii) list\n",
    "(iii) float\n",
    "(iv) tuple\n",
    "\"\"\"\n",
    "a='Masters of data science'\n",
    "b=[1,2,3,4.5,'5355', 4+5J]\n",
    "c=5.4\n",
    "d=(\"4.4\", \"Ankit\")\n",
    "print(type(a), type(b),type(c),type(d))"
   ]
  },
  {
   "cell_type": "code",
   "execution_count": 25,
   "id": "0e18f001",
   "metadata": {},
   "outputs": [
    {
     "name": "stdout",
     "output_type": "stream",
     "text": [
      "<class 'str'> <class 'str'> <class 'list'> <class 'float'>\n"
     ]
    }
   ],
   "source": [
    "\"\"\"\n",
    "Q2. Given are some following variables containing data:\n",
    "(i) var1 = ‘ ‘\n",
    "(ii) var2 = ‘[ DS , ML , Python]’\n",
    "(iii) var3 = [ ‘DS’ , ’ML’ , ‘Python’ ]\n",
    "(iv) var4 = 1.\n",
    "What will be the data type of the above given variable.\n",
    "\"\"\"\n",
    "var1 = ''\n",
    "var2 = '[ DS , ML , Python]'\n",
    "var3 = [ 'DS','ML','Python']\n",
    "var4 = 1.\n",
    "print(type(var1), type(var2), type(var3), type(var4))"
   ]
  },
  {
   "cell_type": "code",
   "execution_count": 26,
   "id": "4070c510",
   "metadata": {},
   "outputs": [
    {
     "name": "stdout",
     "output_type": "stream",
     "text": [
      "<class 'float'> <class 'int'> <class 'int'> <class 'int'>\n"
     ]
    }
   ],
   "source": [
    "\"\"\"\n",
    "Q3. Explain the use of the following operators using an example:\n",
    "(i) /\n",
    "(ii) %\n",
    "(iii) //\n",
    "(iv) **\n",
    "\"\"\"\n",
    "example1 = 2/3\n",
    "example2 = 2%1\n",
    "example3 = 2//3\n",
    "example4 = 2**3\n",
    "print(type(example1), type(example2), type(example3), type(example4))"
   ]
  },
  {
   "cell_type": "code",
   "execution_count": 28,
   "id": "5ccd6e42",
   "metadata": {},
   "outputs": [
    {
     "name": "stdout",
     "output_type": "stream",
     "text": [
      "Ankit <class 'str'>\n",
      "1 <class 'int'>\n",
      "['Number', 1, 'mein'] <class 'list'>\n",
      "24.32 <class 'float'>\n",
      "kagd <class 'str'>\n",
      "245 <class 'int'>\n",
      "354 <class 'int'>\n",
      "wrw <class 'str'>\n",
      "35 <class 'int'>\n",
      "12 <class 'str'>\n"
     ]
    }
   ],
   "source": [
    "\"\"\"\n",
    "Q4. Create a list of length 10 of your choice containing multiple types of data. Using for loop print the\n",
    "element and its data type.\n",
    "\"\"\"\n",
    "list1 = [\"Ankit\", 1, [\"Number\", 1 ,\"mein\"], 24.32, \"kagd\",245, 354,\"wrw\",35,\"12\"]\n",
    "for i in list1:\n",
    "    print(i, type(i))"
   ]
  },
  {
   "cell_type": "code",
   "execution_count": 29,
   "id": "6a360ece",
   "metadata": {},
   "outputs": [
    {
     "name": "stdout",
     "output_type": "stream",
     "text": [
      "enter a number = 15\n",
      "enter from which you want to divide the above = 5\n",
      "Number A is divisible by number B 1 times.\n"
     ]
    }
   ],
   "source": [
    "\"\"\"Q5. Using a while loop, verify if the number A is purely divisible by number B and if so then how many\n",
    "times it can be divisible.\"\"\"\n",
    "a = int(input(\"enter a number = \"))\n",
    "b = int(input(\"enter from which you want to divide the above = \"))\n",
    "count = 0\n",
    "while(a%b==0):\n",
    "    a/=b\n",
    "    count+=1\n",
    "print(\"Number A is divisible by number B\", count, \"times.\")"
   ]
  },
  {
   "cell_type": "code",
   "execution_count": 30,
   "id": "18a96542",
   "metadata": {},
   "outputs": [
    {
     "name": "stdout",
     "output_type": "stream",
     "text": [
      "7 is not divisible by 3\n",
      "12 is divisible by 3\n",
      "21 is divisible by 3\n",
      "34 is not divisible by 3\n",
      "42 is divisible by 3\n",
      "51 is divisible by 3\n",
      "63 is divisible by 3\n",
      "78 is divisible by 3\n",
      "84 is divisible by 3\n",
      "95 is not divisible by 3\n",
      "102 is divisible by 3\n",
      "117 is divisible by 3\n",
      "125 is not divisible by 3\n",
      "138 is divisible by 3\n",
      "147 is divisible by 3\n",
      "156 is divisible by 3\n",
      "168 is divisible by 3\n",
      "177 is divisible by 3\n",
      "185 is not divisible by 3\n",
      "198 is divisible by 3\n",
      "204 is divisible by 3\n",
      "216 is divisible by 3\n",
      "225 is divisible by 3\n",
      "237 is divisible by 3\n",
      "244 is not divisible by 3\n"
     ]
    }
   ],
   "source": [
    "\"\"\"Q6. Create a list containing 25 int type data. Using for loop and if-else condition print if the element is\n",
    "divisible by 3 or not.\"\"\"\n",
    "numbers = [7, 12, 21, 34, 42, 51, 63, 78, 84, 95, 102, 117, 125, 138, 147, 156, 168, 177, 185, 198, 204, 216, 225, 237, 244]\n",
    "for i in numbers:\n",
    "    if i % 3 == 0:\n",
    "        print(i, \"is divisible by 3\")\n",
    "    else:\n",
    "        print(i, \"is not divisible by 3\")"
   ]
  },
  {
   "cell_type": "code",
   "execution_count": 32,
   "id": "d17648b9",
   "metadata": {},
   "outputs": [
    {
     "name": "stdout",
     "output_type": "stream",
     "text": [
      "[34, 353, 353, 57]\n"
     ]
    },
    {
     "data": {
      "text/plain": [
       "'[34, 353, 353, 57]'"
      ]
     },
     "execution_count": 32,
     "metadata": {},
     "output_type": "execute_result"
    }
   ],
   "source": [
    "\"\"\"Q7. What do you understand about mutable and immutable data types? Give examples for both showing\n",
    "this property.\"\"\"\n",
    "# mutable\n",
    "# list\n",
    "list1 = [24, 353, 353, 57]\n",
    "list1[0] = 34\n",
    "print(list1)\n",
    "# string immutable\n",
    "string = str(list1)"
   ]
  },
  {
   "cell_type": "code",
   "execution_count": 33,
   "id": "5fac1653",
   "metadata": {},
   "outputs": [
    {
     "ename": "TypeError",
     "evalue": "'str' object does not support item assignment",
     "output_type": "error",
     "traceback": [
      "\u001b[1;31m---------------------------------------------------------------------------\u001b[0m",
      "\u001b[1;31mTypeError\u001b[0m                                 Traceback (most recent call last)",
      "Cell \u001b[1;32mIn[33], line 1\u001b[0m\n\u001b[1;32m----> 1\u001b[0m \u001b[43mstring\u001b[49m\u001b[43m[\u001b[49m\u001b[38;5;241;43m0\u001b[39;49m\u001b[43m]\u001b[49m \u001b[38;5;241m=\u001b[39m\u001b[38;5;124m\"\u001b[39m\u001b[38;5;124m3q53\u001b[39m\u001b[38;5;124m\"\u001b[39m\n",
      "\u001b[1;31mTypeError\u001b[0m: 'str' object does not support item assignment"
     ]
    }
   ],
   "source": [
    "string[0] =\"3q53\""
   ]
  },
  {
   "cell_type": "code",
   "execution_count": null,
   "id": "7519128c",
   "metadata": {},
   "outputs": [],
   "source": []
  }
 ],
 "metadata": {
  "kernelspec": {
   "display_name": "Python 3 (ipykernel)",
   "language": "python",
   "name": "python3"
  },
  "language_info": {
   "codemirror_mode": {
    "name": "ipython",
    "version": 3
   },
   "file_extension": ".py",
   "mimetype": "text/x-python",
   "name": "python",
   "nbconvert_exporter": "python",
   "pygments_lexer": "ipython3",
   "version": "3.11.2"
  }
 },
 "nbformat": 4,
 "nbformat_minor": 5
}
